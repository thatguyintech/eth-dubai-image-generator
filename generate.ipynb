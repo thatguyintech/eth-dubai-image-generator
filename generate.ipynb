{
 "cells": [
  {
   "cell_type": "code",
   "execution_count": 1,
   "metadata": {},
   "outputs": [],
   "source": [
    "from PIL import Image \n",
    "from IPython.display import display \n",
    "import random\n",
    "import json"
   ]
  },
  {
   "cell_type": "code",
   "execution_count": 2,
   "metadata": {},
   "outputs": [],
   "source": [
    "attributes = {}"
   ]
  },
  {
   "cell_type": "code",
   "execution_count": 3,
   "metadata": {
    "scrolled": true
   },
   "outputs": [
    {
     "name": "stdout",
     "output_type": "stream",
     "text": [
      "625\n"
     ]
    }
   ],
   "source": [
    "## Sanity check calculation on the total number of possible combos\n",
    "def num_possible_combinations(all_attrs):\n",
    "    total_combos = 1\n",
    "    for category_name in all_attrs:\n",
    "        category = all_attrs[category_name]\n",
    "        num_files_in_category = 0\n",
    "        for group_name in category:\n",
    "            group = category[group_name]\n",
    "            num_files_in_category += len(group[\"files\"])\n",
    "        total_combos *= num_files_in_category\n",
    "    return total_combos\n",
    "\n",
    "print(num_possible_combinations(attributes))"
   ]
  },
  {
   "cell_type": "code",
   "execution_count": 14,
   "metadata": {},
   "outputs": [],
   "source": [
    "# Number of random unique images we want to generate\n",
    "TOTAL_IMAGES = 25"
   ]
  },
  {
   "cell_type": "code",
   "execution_count": 15,
   "metadata": {},
   "outputs": [
    {
     "name": "stdout",
     "output_type": "stream",
     "text": [
      "total images generated:  25\n"
     ]
    }
   ],
   "source": [
    "## Generate Traits\n",
    "\n",
    "all_images = [] \n",
    "\n",
    "# A recursive function to generate unique image combinations.\n",
    "# Keep track of trait counts as we generate.\n",
    "def create_new_image():    \n",
    "    new_image = {\"attributes\": []}\n",
    "    \n",
    "    # For each trait category, select a random trait based on the weightings \n",
    "    for category_name in attributes:\n",
    "        category = attributes[category_name]\n",
    "        \n",
    "        # need to pick between groups if there are multiple\n",
    "        num_files_in_category = 0\n",
    "        group_name_to_use = \"\"\n",
    "        group_names = []\n",
    "        num_files_per_group = []\n",
    "        weights_per_group = []\n",
    "        for group_name in category:\n",
    "            group_names.append(group_name)\n",
    "            group = category[group_name]\n",
    "            group_files = group[\"files\"]\n",
    "            num_files_in_category += len(group_files)\n",
    "            num_files_per_group.append(len(group_files))\n",
    "        # calculate implicit group weights via num_files_in_group/num_files_in_category but use whole nums\n",
    "        for i in range(len(num_files_per_group)):\n",
    "            g = num_files_per_group[i]\n",
    "            c = num_files_in_category\n",
    "            weights_per_group.append(g/c*100)\n",
    "            \n",
    "        group_name_to_use = random.choices(group_names, weights_per_group)[0]\n",
    "        category[group_name_to_use]\n",
    "        group = category[group_name_to_use]\n",
    "        \n",
    "        # pick the item to use for this attribute category\n",
    "        filename = random.choices(group[\"files\"], group[\"weights\"])[0]\n",
    "        new_image[\"attributes\"].append({\"trait_type\": category_name, \"group\": group_name_to_use, \"value\": filename})\n",
    "    \n",
    "    if new_image in all_images:\n",
    "        return create_new_image()\n",
    "    else:\n",
    "        return new_image\n",
    "    \n",
    "    \n",
    "# Generate the unique combinations based on trait weightings\n",
    "for i in range(TOTAL_IMAGES):\n",
    "    all_images.append(create_new_image())\n",
    "\n",
    "\n",
    "print(\"total images generated: \", TOTAL_IMAGES)"
   ]
  },
  {
   "cell_type": "code",
   "execution_count": 16,
   "metadata": {},
   "outputs": [
    {
     "name": "stdout",
     "output_type": "stream",
     "text": [
      "Are all images unique? True\n"
     ]
    }
   ],
   "source": [
    "# Returns true if all images are unique.\n",
    "# This is just a sanity check.. the create_new_image function should be generating unique images already.\n",
    "def all_images_unique(all_images):\n",
    "    seen = list()\n",
    "    return not any(i in seen or seen.append(i) for i in all_images)\n",
    "\n",
    "print(\"Are all images unique?\", all_images_unique(all_images))"
   ]
  },
  {
   "cell_type": "code",
   "execution_count": 17,
   "metadata": {},
   "outputs": [
    {
     "name": "stdout",
     "output_type": "stream",
     "text": [
      "Final tokenId:  24\n"
     ]
    }
   ],
   "source": [
    "# Add token Id to each image\n",
    "i = 0\n",
    "for item in all_images:\n",
    "    item[\"tokenId\"] = i\n",
    "    i = i + 1\n",
    "\n",
    "print(\"Final tokenId: \", i-1)"
   ]
  },
  {
   "cell_type": "code",
   "execution_count": 18,
   "metadata": {
    "tags": []
   },
   "outputs": [
    {
     "name": "stdout",
     "output_type": "stream",
     "text": [
      "{'attributes': [{'trait_type': 'accessory', 'group': '4-accessory', 'value': 'red bow'}, {'trait_type': 'background', 'group': '1-background', 'value': 'pink'}, {'trait_type': 'body', 'group': '2-body', 'value': 'plain'}, {'trait_type': 'expression', 'group': '3-expression', 'value': 'excited'}], 'tokenId': 0}\n",
      "\n",
      "{'attributes': [{'trait_type': 'accessory', 'group': '4-accessory', 'value': 'gold chain'}, {'trait_type': 'background', 'group': '1-background', 'value': 'pink'}, {'trait_type': 'body', 'group': '2-body', 'value': 'red'}, {'trait_type': 'expression', 'group': '3-expression', 'value': 'derp'}], 'tokenId': 1}\n",
      "\n",
      "{'attributes': [{'trait_type': 'accessory', 'group': '4-accessory', 'value': 'pizza'}, {'trait_type': 'background', 'group': '1-background', 'value': 'red dots'}, {'trait_type': 'body', 'group': '2-body', 'value': 'green'}, {'trait_type': 'expression', 'group': '3-expression', 'value': 'frustrated'}], 'tokenId': 2}\n",
      "\n",
      "{'attributes': [{'trait_type': 'accessory', 'group': '4-accessory', 'value': 'gold chain'}, {'trait_type': 'background', 'group': '1-background', 'value': 'purple'}, {'trait_type': 'body', 'group': '2-body', 'value': 'blue'}, {'trait_type': 'expression', 'group': '3-expression', 'value': 'pretty'}], 'tokenId': 3}\n",
      "\n",
      "{'attributes': [{'trait_type': 'accessory', 'group': '4-accessory', 'value': 'green beanie'}, {'trait_type': 'background', 'group': '1-background', 'value': 'blue'}, {'trait_type': 'body', 'group': '2-body', 'value': 'green'}, {'trait_type': 'expression', 'group': '3-expression', 'value': 'excited'}], 'tokenId': 4}\n",
      "\n",
      "{'attributes': [{'trait_type': 'accessory', 'group': '4-accessory', 'value': 'iridium dagger'}, {'trait_type': 'background', 'group': '1-background', 'value': 'navy'}, {'trait_type': 'body', 'group': '2-body', 'value': 'green'}, {'trait_type': 'expression', 'group': '3-expression', 'value': 'excited'}], 'tokenId': 5}\n",
      "\n",
      "{'attributes': [{'trait_type': 'accessory', 'group': '4-accessory', 'value': 'gold chain'}, {'trait_type': 'background', 'group': '1-background', 'value': 'pink'}, {'trait_type': 'body', 'group': '2-body', 'value': 'plain'}, {'trait_type': 'expression', 'group': '3-expression', 'value': 'derp'}], 'tokenId': 6}\n",
      "\n",
      "{'attributes': [{'trait_type': 'accessory', 'group': '4-accessory', 'value': 'gold chain'}, {'trait_type': 'background', 'group': '1-background', 'value': 'purple'}, {'trait_type': 'body', 'group': '2-body', 'value': 'rainbow neon'}, {'trait_type': 'expression', 'group': '3-expression', 'value': 'angry'}], 'tokenId': 7}\n",
      "\n",
      "{'attributes': [{'trait_type': 'accessory', 'group': '4-accessory', 'value': 'pizza'}, {'trait_type': 'background', 'group': '1-background', 'value': 'red dots'}, {'trait_type': 'body', 'group': '2-body', 'value': 'rainbow neon'}, {'trait_type': 'expression', 'group': '3-expression', 'value': 'derp'}], 'tokenId': 8}\n",
      "\n",
      "{'attributes': [{'trait_type': 'accessory', 'group': '4-accessory', 'value': 'red bow'}, {'trait_type': 'background', 'group': '1-background', 'value': 'purple'}, {'trait_type': 'body', 'group': '2-body', 'value': 'rainbow neon'}, {'trait_type': 'expression', 'group': '3-expression', 'value': 'derp'}], 'tokenId': 9}\n",
      "\n",
      "{'attributes': [{'trait_type': 'accessory', 'group': '4-accessory', 'value': 'gold chain'}, {'trait_type': 'background', 'group': '1-background', 'value': 'navy'}, {'trait_type': 'body', 'group': '2-body', 'value': 'rainbow neon'}, {'trait_type': 'expression', 'group': '3-expression', 'value': 'pretty'}], 'tokenId': 10}\n",
      "\n",
      "{'attributes': [{'trait_type': 'accessory', 'group': '4-accessory', 'value': 'gold chain'}, {'trait_type': 'background', 'group': '1-background', 'value': 'red dots'}, {'trait_type': 'body', 'group': '2-body', 'value': 'blue'}, {'trait_type': 'expression', 'group': '3-expression', 'value': 'excited'}], 'tokenId': 11}\n",
      "\n",
      "{'attributes': [{'trait_type': 'accessory', 'group': '4-accessory', 'value': 'pizza'}, {'trait_type': 'background', 'group': '1-background', 'value': 'purple'}, {'trait_type': 'body', 'group': '2-body', 'value': 'green'}, {'trait_type': 'expression', 'group': '3-expression', 'value': 'excited'}], 'tokenId': 12}\n",
      "\n",
      "{'attributes': [{'trait_type': 'accessory', 'group': '4-accessory', 'value': 'iridium dagger'}, {'trait_type': 'background', 'group': '1-background', 'value': 'red dots'}, {'trait_type': 'body', 'group': '2-body', 'value': 'red'}, {'trait_type': 'expression', 'group': '3-expression', 'value': 'excited'}], 'tokenId': 13}\n",
      "\n",
      "{'attributes': [{'trait_type': 'accessory', 'group': '4-accessory', 'value': 'iridium dagger'}, {'trait_type': 'background', 'group': '1-background', 'value': 'red dots'}, {'trait_type': 'body', 'group': '2-body', 'value': 'red'}, {'trait_type': 'expression', 'group': '3-expression', 'value': 'frustrated'}], 'tokenId': 14}\n",
      "\n",
      "{'attributes': [{'trait_type': 'accessory', 'group': '4-accessory', 'value': 'gold chain'}, {'trait_type': 'background', 'group': '1-background', 'value': 'navy'}, {'trait_type': 'body', 'group': '2-body', 'value': 'rainbow neon'}, {'trait_type': 'expression', 'group': '3-expression', 'value': 'excited'}], 'tokenId': 15}\n",
      "\n",
      "{'attributes': [{'trait_type': 'accessory', 'group': '4-accessory', 'value': 'gold chain'}, {'trait_type': 'background', 'group': '1-background', 'value': 'purple'}, {'trait_type': 'body', 'group': '2-body', 'value': 'rainbow neon'}, {'trait_type': 'expression', 'group': '3-expression', 'value': 'frustrated'}], 'tokenId': 16}\n",
      "\n",
      "{'attributes': [{'trait_type': 'accessory', 'group': '4-accessory', 'value': 'pizza'}, {'trait_type': 'background', 'group': '1-background', 'value': 'navy'}, {'trait_type': 'body', 'group': '2-body', 'value': 'blue'}, {'trait_type': 'expression', 'group': '3-expression', 'value': 'derp'}], 'tokenId': 17}\n",
      "\n",
      "{'attributes': [{'trait_type': 'accessory', 'group': '4-accessory', 'value': 'red bow'}, {'trait_type': 'background', 'group': '1-background', 'value': 'purple'}, {'trait_type': 'body', 'group': '2-body', 'value': 'plain'}, {'trait_type': 'expression', 'group': '3-expression', 'value': 'pretty'}], 'tokenId': 18}\n",
      "\n",
      "{'attributes': [{'trait_type': 'accessory', 'group': '4-accessory', 'value': 'iridium dagger'}, {'trait_type': 'background', 'group': '1-background', 'value': 'red dots'}, {'trait_type': 'body', 'group': '2-body', 'value': 'rainbow neon'}, {'trait_type': 'expression', 'group': '3-expression', 'value': 'frustrated'}], 'tokenId': 19}\n",
      "\n",
      "{'attributes': [{'trait_type': 'accessory', 'group': '4-accessory', 'value': 'green beanie'}, {'trait_type': 'background', 'group': '1-background', 'value': 'pink'}, {'trait_type': 'body', 'group': '2-body', 'value': 'green'}, {'trait_type': 'expression', 'group': '3-expression', 'value': 'pretty'}], 'tokenId': 20}\n",
      "\n",
      "{'attributes': [{'trait_type': 'accessory', 'group': '4-accessory', 'value': 'red bow'}, {'trait_type': 'background', 'group': '1-background', 'value': 'pink'}, {'trait_type': 'body', 'group': '2-body', 'value': 'green'}, {'trait_type': 'expression', 'group': '3-expression', 'value': 'frustrated'}], 'tokenId': 21}\n",
      "\n",
      "{'attributes': [{'trait_type': 'accessory', 'group': '4-accessory', 'value': 'gold chain'}, {'trait_type': 'background', 'group': '1-background', 'value': 'navy'}, {'trait_type': 'body', 'group': '2-body', 'value': 'green'}, {'trait_type': 'expression', 'group': '3-expression', 'value': 'excited'}], 'tokenId': 22}\n",
      "\n",
      "{'attributes': [{'trait_type': 'accessory', 'group': '4-accessory', 'value': 'green beanie'}, {'trait_type': 'background', 'group': '1-background', 'value': 'blue'}, {'trait_type': 'body', 'group': '2-body', 'value': 'plain'}, {'trait_type': 'expression', 'group': '3-expression', 'value': 'excited'}], 'tokenId': 23}\n",
      "\n",
      "{'attributes': [{'trait_type': 'accessory', 'group': '4-accessory', 'value': 'pizza'}, {'trait_type': 'background', 'group': '1-background', 'value': 'red dots'}, {'trait_type': 'body', 'group': '2-body', 'value': 'green'}, {'trait_type': 'expression', 'group': '3-expression', 'value': 'excited'}], 'tokenId': 24}\n",
      "\n"
     ]
    }
   ],
   "source": [
    "for img in all_images:\n",
    "    print(str(img) + \"\\n\")"
   ]
  },
  {
   "cell_type": "code",
   "execution_count": 19,
   "metadata": {},
   "outputs": [
    {
     "name": "stdout",
     "output_type": "stream",
     "text": [
      "total number of images:  25\n",
      "\n",
      "accessory weights ...\n",
      "num items in category : actual - 5 expected - 5\n",
      "gold chain : actual - 36.0 expected - 20.0\n",
      "green beanie : actual - 12.0 expected - 20.0\n",
      "iridium dagger : actual - 16.0 expected - 20.0\n",
      "pizza : actual - 20.0 expected - 20.0\n",
      "red bow : actual - 16.0 expected - 20.0\n",
      "\n",
      "background weights ...\n",
      "num items in category : actual - 5 expected - 5\n",
      "blue : actual - 8.0 expected - 20.0\n",
      "navy : actual - 20.0 expected - 20.0\n",
      "pink : actual - 20.0 expected - 20.0\n",
      "purple : actual - 24.0 expected - 20.0\n",
      "red dots : actual - 28.0 expected - 20.0\n",
      "\n",
      "body weights ...\n",
      "num items in category : actual - 5 expected - 5\n",
      "blue : actual - 12.0 expected - 20.0\n",
      "green : actual - 32.0 expected - 20.0\n",
      "plain : actual - 16.0 expected - 20.0\n",
      "rainbow neon : actual - 28.0 expected - 20.0\n",
      "red : actual - 12.0 expected - 20.0\n",
      "\n",
      "expression weights ...\n",
      "num items in category : actual - 5 expected - 5\n",
      "angry : actual - 4.0 expected - 20.0\n",
      "derp : actual - 20.0 expected - 20.0\n",
      "excited : actual - 40.0 expected - 20.0\n",
      "frustrated : actual - 20.0 expected - 20.0\n",
      "pretty : actual - 16.0 expected - 20.0\n",
      "\n"
     ]
    }
   ],
   "source": [
    "from collections import Counter\n",
    "\n",
    "counters = {}\n",
    "for category_name in attributes:\n",
    "    counters[category_name] = Counter()\n",
    "\n",
    "for image in all_images:\n",
    "    for trait in image[\"attributes\"]:\n",
    "        category_name = trait[\"trait_type\"]\n",
    "        filename = trait[\"value\"]\n",
    "        counters[category_name][filename] += 1\n",
    "\n",
    "print(\"total number of images: \", TOTAL_IMAGES)\n",
    "print(\"\")\n",
    "\n",
    "for category_name in counters:\n",
    "    counter = counters[category_name]\n",
    "    print(category_name,\"weights ...\")\n",
    "    num_items_in_category = len(counter)\n",
    "    \n",
    "    category = attributes[category_name]\n",
    "    \n",
    "    all_filenames_in_category = []\n",
    "    \n",
    "    expected_weights_by_filename = {}\n",
    "\n",
    "    num_files_in_category = 0\n",
    "    num_files_by_group = {}\n",
    "    \n",
    "    expected_num_items_in_category = 0\n",
    "    for group_name in category:\n",
    "        group = category[group_name]\n",
    "        all_filenames_in_category += group[\"files\"]\n",
    "        num_files = len(group[\"files\"])\n",
    "        num_files_in_category += num_files\n",
    "        num_files_by_group[group_name] = num_files\n",
    "        \n",
    "        expected_num_items_in_category += len(attributes[category_name][group_name][\"files\"])\n",
    "        \n",
    "    print(\"num items in category : actual - {} expected - {}\".format(num_items_in_category, expected_num_items_in_category))\n",
    "          \n",
    "    # calculate implicit group weights via num_files_in_group/num_files_in_category but use whole nums\n",
    "    for group_name in category:\n",
    "        g = num_files_by_group[group_name]\n",
    "        c = num_files_in_category\n",
    "        group_weight = g/c\n",
    "        \n",
    "        group = category[group_name]\n",
    "        for i, filename in enumerate(group[\"files\"]):\n",
    "            file_weight = group[\"weights\"][i]\n",
    "            expected_weights_by_filename[filename] = round(float(group_weight * file_weight),2)\n",
    "    \n",
    "    for filename in all_filenames_in_category:\n",
    "        actual_weight = counter[filename] / TOTAL_IMAGES\n",
    "        expected_weight = expected_weights_by_filename[filename]\n",
    "        print(filename, \":\", \"actual -\", round(float(actual_weight*100),2),\"expected -\",expected_weight)\n",
    "    print(\"\")"
   ]
  },
  {
   "cell_type": "code",
   "execution_count": 23,
   "metadata": {},
   "outputs": [
    {
     "name": "stdout",
     "output_type": "stream",
     "text": [
      "generated:  0.png\n",
      "generated:  1.png\n",
      "generated:  2.png\n",
      "generated:  3.png\n",
      "generated:  4.png\n",
      "generated:  5.png\n",
      "generated:  6.png\n",
      "generated:  7.png\n",
      "generated:  8.png\n",
      "generated:  9.png\n",
      "generated:  10.png\n",
      "generated:  11.png\n",
      "generated:  12.png\n",
      "generated:  13.png\n",
      "generated:  14.png\n",
      "generated:  15.png\n",
      "generated:  16.png\n",
      "generated:  17.png\n",
      "generated:  18.png\n",
      "generated:  19.png\n",
      "generated:  20.png\n",
      "generated:  21.png\n",
      "generated:  22.png\n",
      "generated:  23.png\n",
      "generated:  24.png\n"
     ]
    }
   ],
   "source": [
    "def sortkey(group_name):\n",
    "    return int(group_name.split(\"-\")[0])\n",
    "\n",
    "#### Generate Images    \n",
    "for image in all_images:\n",
    "    layers = []\n",
    "    \n",
    "    sorted_traits = sorted(image[\"attributes\"], key=lambda x: sortkey(x[\"group\"]))\n",
    "    for trait in sorted_traits:\n",
    "        filepath = f'./attributes/{trait[\"trait_type\"]}/{trait[\"group\"]}/{trait[\"value\"]}.png'\n",
    "        opened = Image.open(filepath).resize((512, 512)).convert('RGBA')\n",
    "        layers.append(opened)\n",
    "    \n",
    "    composite = Image.alpha_composite(layers[0], layers[1])\n",
    "    for i in range(2, len(layers)):\n",
    "        composite = Image.alpha_composite(composite, layers[i])\n",
    "        \n",
    "    rgb_im = composite.convert('RGB')\n",
    "    filename = str(image[\"tokenId\"]) + \".png\"\n",
    "    rgb_im.save(\"./images/\" + filename)\n",
    "    print(\"generated: \", filename)\n",
    "    "
   ]
  },
  {
   "cell_type": "code",
   "execution_count": 24,
   "metadata": {},
   "outputs": [
    {
     "name": "stdout",
     "output_type": "stream",
     "text": [
      "25\n",
      "['0.png', '1.png', '2.png', '3.png', '4.png', '5.png', '6.png', '7.png', '8.png', '9.png', '10.png', '11.png', '12.png', '13.png', '14.png', '15.png', '16.png', '17.png', '18.png', '19.png', '20.png', '21.png', '22.png', '23.png', '24.png']\n"
     ]
    }
   ],
   "source": [
    "#### Grab all generated filenames from the images folder. Sort by image number.\n",
    "from os import walk\n",
    "\n",
    "filenames = next(walk(\"./images\"), (None, None, []))[2]\n",
    "filenames = list(filter(lambda x: x[0] != '.', filenames))\n",
    "print(len(filenames))\n",
    "filenames = sorted(filenames, key=lambda x: int(x[:len(x)-4]))\n",
    "print(filenames)"
   ]
  },
  {
   "cell_type": "code",
   "execution_count": 29,
   "metadata": {},
   "outputs": [],
   "source": [
    "#### Generate Incomplete Metadata for each Image\n",
    "\n",
    "metadata = []\n",
    "\n",
    "for image in all_images:\n",
    "    token_id = image[\"tokenId\"]\n",
    "    image[\"description\"] = \"\"\n",
    "    image[\"name\"] = f'#{token_id}'\n",
    "    image[\"image\"] = f'ipfs://QmPJRxuauHGeKxvZ2mUTUtjezd27F55CwCmPqWYyk454P2/{token_id}.png'\n",
    "    image[\"external_url\"] = f'https://ipfs.io/ipfs/QmPJRxuauHGeKxvZ2mUTUtjezd27F55CwCmPqWYyk454P2/{token_id}.png'\n",
    "    with open(f'./metadata/{str(token_id)}', 'w') as outfile:\n",
    "        json.dump(image, outfile, indent=4)\n",
    "    \n",
    "    metadata.append(image)\n",
    "    \n",
    "    \n",
    "#### Uncomment if you want to generate a top-level file with ALL metadata objects in a list\n",
    "\n",
    "# METADATA_FILE_NAME = './metadata/all-traits.json'; \n",
    "# with open(METADATA_FILE_NAME, 'w') as outfile:\n",
    "#    json.dump(metadata, outfile, indent=4)\n"
   ]
  }
 ],
 "metadata": {
  "interpreter": {
   "hash": "3d65f8beab89bca824669a8319117cabe601d9aca9a71aad8efeb42336828120"
  },
  "kernelspec": {
   "display_name": "Python 3 (ipykernel)",
   "language": "python",
   "name": "python3"
  },
  "language_info": {
   "codemirror_mode": {
    "name": "ipython",
    "version": 3
   },
   "file_extension": ".py",
   "mimetype": "text/x-python",
   "name": "python",
   "nbconvert_exporter": "python",
   "pygments_lexer": "ipython3",
   "version": "3.8.2"
  }
 },
 "nbformat": 4,
 "nbformat_minor": 4
}
